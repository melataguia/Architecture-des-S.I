{
  "nbformat": 4,
  "nbformat_minor": 0,
  "metadata": {
    "colab": {
      "provenance": [],
      "machine_shape": "hm",
      "authorship_tag": "ABX9TyN7x1eHeBq8anVoSFXnspGb",
      "include_colab_link": true
    },
    "kernelspec": {
      "name": "ir",
      "display_name": "R"
    },
    "language_info": {
      "name": "R"
    }
  },
  "cells": [
    {
      "cell_type": "markdown",
      "metadata": {
        "id": "view-in-github",
        "colab_type": "text"
      },
      "source": [
        "<a href=\"https://colab.research.google.com/github/melataguia/Architecture-des-S.I/blob/master/gradient_boosting.ipynb\" target=\"_parent\"><img src=\"https://colab.research.google.com/assets/colab-badge.svg\" alt=\"Open In Colab\"/></a>"
      ]
    },
    {
      "cell_type": "markdown",
      "source": [
        "# Installation de la bibliothèque gbm"
      ],
      "metadata": {
        "id": "g5tjNlkH_sSy"
      }
    },
    {
      "cell_type": "code",
      "source": [
        "if (!require(gbm)) {\n",
        "  install.packages(\"gbm\")\n",
        "}"
      ],
      "metadata": {
        "colab": {
          "base_uri": "https://localhost:8080/"
        },
        "id": "notw76bq_tha",
        "outputId": "c8d14487-1ff7-4afb-ab2e-fa2af864c60e"
      },
      "execution_count": null,
      "outputs": [
        {
          "output_type": "stream",
          "name": "stderr",
          "text": [
            "Loading required package: gbm\n",
            "\n",
            "Warning message in library(package, lib.loc = lib.loc, character.only = TRUE, logical.return = TRUE, :\n",
            "“there is no package called ‘gbm’”\n",
            "Installing package into ‘/usr/local/lib/R/site-library’\n",
            "(as ‘lib’ is unspecified)\n",
            "\n"
          ]
        }
      ]
    },
    {
      "cell_type": "markdown",
      "source": [
        "# Charger les bibliothèques nécessaires"
      ],
      "metadata": {
        "id": "9-TuINKS_vmf"
      }
    },
    {
      "cell_type": "code",
      "source": [
        "library(gbm)"
      ],
      "metadata": {
        "colab": {
          "base_uri": "https://localhost:8080/"
        },
        "id": "JYyZNn4E_xbk",
        "outputId": "b809b46c-3ac9-4cc9-8273-587cbf31a1c4"
      },
      "execution_count": null,
      "outputs": [
        {
          "output_type": "stream",
          "name": "stderr",
          "text": [
            "Loaded gbm 2.1.9\n",
            "\n",
            "This version of gbm is no longer under development. Consider transitioning to gbm3, https://github.com/gbm-developers/gbm3\n",
            "\n"
          ]
        }
      ]
    },
    {
      "cell_type": "markdown",
      "source": [
        "# Charger les données MovieLens (ajuster le chemin selon votre configuration)"
      ],
      "metadata": {
        "id": "AlgHz220_zvX"
      }
    },
    {
      "cell_type": "code",
      "source": [
        "#movies <- read.csv('./movies.csv')\n",
        "ratings <- read.csv('../ratings.csv')\n",
        "#tags <- read.csv('./tags.csv')"
      ],
      "metadata": {
        "id": "huRnupVx_19k"
      },
      "execution_count": null,
      "outputs": []
    },
    {
      "cell_type": "markdown",
      "source": [
        "# Vérifier les données manquantes"
      ],
      "metadata": {
        "id": "_er4R7eu_4L_"
      }
    },
    {
      "cell_type": "code",
      "source": [
        "missing_values <- sapply(ratings, function(x) sum(is.na(x)))\n",
        "print(missing_values)"
      ],
      "metadata": {
        "colab": {
          "base_uri": "https://localhost:8080/"
        },
        "id": "wf1lphkB_7xB",
        "outputId": "fd6a6b39-737a-49b5-d8e7-06a6ba91c443"
      },
      "execution_count": null,
      "outputs": [
        {
          "output_type": "stream",
          "name": "stdout",
          "text": [
            "   userId   movieId    rating timestamp \n",
            "        0         0         0         2 \n"
          ]
        }
      ]
    },
    {
      "cell_type": "markdown",
      "source": [
        "# Supprimer les lignes avec des valeurs manquantes si nécessaire"
      ],
      "metadata": {
        "id": "7hKLpxHh_9_l"
      }
    },
    {
      "cell_type": "code",
      "source": [
        "ratings <- ratings[complete.cases(ratings), ]"
      ],
      "metadata": {
        "id": "cxW5lKl3AAOf"
      },
      "execution_count": null,
      "outputs": []
    },
    {
      "cell_type": "markdown",
      "source": [
        "# Diviser les données en ensembles d'apprentissage et de test"
      ],
      "metadata": {
        "id": "qv4sgL7YADd-"
      }
    },
    {
      "cell_type": "code",
      "source": [
        "set.seed(123)  # Pour la reproductibilité\n",
        "train_indices <- sample(1:nrow(ratings), 0.8 * nrow(ratings))\n",
        "train_data <- ratings[train_indices, ]\n",
        "test_data <- ratings[-train_indices, ]"
      ],
      "metadata": {
        "id": "DFP_FQxKAED8"
      },
      "execution_count": null,
      "outputs": []
    },
    {
      "cell_type": "markdown",
      "source": [
        "# Créer le modèle Gradient Boosting"
      ],
      "metadata": {
        "id": "DnZc-2vEAGcp"
      }
    },
    {
      "cell_type": "code",
      "source": [
        "gb_model <- gbm(rating ~ ., data = train_data, distribution = \"gaussian\", n.trees = 100, interaction.depth = 3, shrinkage = 0.1)"
      ],
      "metadata": {
        "id": "cLmse7WkAIuA"
      },
      "execution_count": null,
      "outputs": []
    },
    {
      "cell_type": "markdown",
      "source": [
        "# Faire des prédictions sur l'ensemble de test"
      ],
      "metadata": {
        "id": "v1_tsg8BALHs"
      }
    },
    {
      "cell_type": "code",
      "source": [
        "predictions <- predict(gb_model, newdata = test_data, n.trees = 100)"
      ],
      "metadata": {
        "id": "XcDpCZ8HANV2"
      },
      "execution_count": null,
      "outputs": []
    },
    {
      "cell_type": "markdown",
      "source": [
        "\n",
        "# Évaluer les performances du modèle (par exemple, RMSE)"
      ],
      "metadata": {
        "id": "TkKxkBUBAQ0b"
      }
    },
    {
      "cell_type": "code",
      "source": [
        "rmse <- sqrt(mean((predictions - test_data$rating)^2))\n",
        "print(paste(\"RMSE:\", rmse))\n"
      ],
      "metadata": {
        "colab": {
          "base_uri": "https://localhost:8080/"
        },
        "id": "DChBJqu_ARnZ",
        "outputId": "f24f4359-c97e-4799-dd0f-048e8dcec555"
      },
      "execution_count": null,
      "outputs": [
        {
          "output_type": "stream",
          "name": "stdout",
          "text": [
            "[1] \"RMSE: 0.979480254868757\"\n"
          ]
        }
      ]
    }
  ]
}